{
  "nbformat": 4,
  "nbformat_minor": 0,
  "metadata": {
    "colab": {
      "provenance": [],
      "authorship_tag": "ABX9TyNky0matXeAl5ZWy4AR9hiN",
      "include_colab_link": true
    },
    "kernelspec": {
      "name": "python3",
      "display_name": "Python 3"
    },
    "language_info": {
      "name": "python"
    }
  },
  "cells": [
    {
      "cell_type": "markdown",
      "metadata": {
        "id": "view-in-github",
        "colab_type": "text"
      },
      "source": [
        "<a href=\"https://colab.research.google.com/github/alejandrobarrantes/Analisis-de-Datos/blob/main/lab2_AlejandroBarrantes.ipynb\" target=\"_parent\"><img src=\"https://colab.research.google.com/assets/colab-badge.svg\" alt=\"Open In Colab\"/></a>"
      ]
    },
    {
      "cell_type": "code",
      "execution_count": null,
      "metadata": {
        "colab": {
          "base_uri": "https://localhost:8080/"
        },
        "id": "oEVBaKca46PG",
        "outputId": "6df52549-a6bd-4c33-c79e-7f5034913f38"
      },
      "outputs": [
        {
          "output_type": "stream",
          "name": "stdout",
          "text": [
            "-------------------------------------------------\n",
            "Ejemplo: IMRPIMIR EL MENOR DE DOS NUMEROS.\n",
            "-------------------------------------------------\n",
            "Ingrese 2 numeros:\n",
            "Primer Numero: 1\n",
            "Segundo Numero: 5\n",
            "\n",
            "Salida\n",
            "-------------------------------------------------\n",
            "-------------------------------------\n",
            "El menor es: 1\n"
          ]
        }
      ],
      "source": [
        "#Decoracion: Nombre del Alrgoritmo\n",
        "print(\"-------------------------------------------------\")\n",
        "print(\"Ejemplo: IMRPIMIR EL MENOR DE DOS NUMEROS.\")\n",
        "print(\"-------------------------------------------------\")\n",
        "#Entradas\n",
        "print(\"Ingrese 2 numeros:\")\n",
        "x=int(input(\"Primer Numero: \"))\n",
        "y=int(input(\"Segundo Numero: \"))\n",
        "print(\"\\nSalida\")\n",
        "print(\"-------------------------------------------------\")\n",
        "print(\"-------------------------------------\")\n",
        "#Nota: no olvidarse de las indentacion\n",
        "if x>y:\n",
        "  #esto esta dentro del if\n",
        "  print(\"El menor es:\",y)\n",
        "else: \n",
        "  #esto esta dentro del else\n",
        "  print(\"El menor es:\",x)"
      ]
    },
    {
      "cell_type": "code",
      "source": [
        "switcher={1:\"Enero\",2: \"Febrero\", 3:\"Marzo\", 4: \"Abril\", 5:\"Mayo\", 6:\n",
        "\"Junio\", 7:\"Julio\", 8:\"Agosto\",9: \"Septiembre\", 10: \"Octubre\",11:\n",
        "\"Noviembre\", 12:\"Diciembre\"}\n",
        "\n",
        "\n",
        "argument=int(input(\"Ingrese un número:\"))\n",
        "nameMes=switcher. get(argument,\"Mes inválido\")\n",
        "print(nameMes)"
      ],
      "metadata": {
        "colab": {
          "base_uri": "https://localhost:8080/"
        },
        "id": "-5tA6Ra-7-Nj",
        "outputId": "990b0504-a855-49b8-ef53-fba5ddcbcaa3"
      },
      "execution_count": null,
      "outputs": [
        {
          "output_type": "stream",
          "name": "stdout",
          "text": [
            "Ingrese un número:2\n",
            "Febrero\n"
          ]
        }
      ]
    }
  ]
}