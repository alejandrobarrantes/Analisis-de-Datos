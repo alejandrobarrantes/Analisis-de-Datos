{
  "nbformat": 4,
  "nbformat_minor": 0,
  "metadata": {
    "colab": {
      "provenance": [],
      "authorship_tag": "ABX9TyMJ8AnOgfwvGujqpw/IGVOc",
      "include_colab_link": true
    },
    "kernelspec": {
      "name": "python3",
      "display_name": "Python 3"
    },
    "language_info": {
      "name": "python"
    }
  },
  "cells": [
    {
      "cell_type": "markdown",
      "metadata": {
        "id": "view-in-github",
        "colab_type": "text"
      },
      "source": [
        "<a href=\"https://colab.research.google.com/github/alejandrobarrantes/Analisis-de-Datos/blob/main/EjerciciosVideo.ipynb\" target=\"_parent\"><img src=\"https://colab.research.google.com/assets/colab-badge.svg\" alt=\"Open In Colab\"/></a>"
      ]
    },
    {
      "cell_type": "code",
      "source": [
        "#Alejandro Barrantes Castro"
      ],
      "metadata": {
        "id": "IED3ncJEMN6q"
      },
      "execution_count": null,
      "outputs": []
    },
    {
      "cell_type": "code",
      "execution_count": null,
      "metadata": {
        "id": "MNTTXDmsBWQY"
      },
      "outputs": [],
      "source": [
        "print(\"Ejercicio Bisiesto\")\n",
        "anio=int(input(\"Ingrese el año: \"))\n",
        "if(anio % 400 == 0) or (anio % 4 == 0) and (anio % 100 != 0):\n",
        "  print(\"El año es Bisiesto\")\n",
        "else:\n",
        "  print(\"El año no es Bisiesto\")"
      ]
    },
    {
      "cell_type": "code",
      "source": [
        "switcher={1: \"Enero\", 2: \"Febrero\", 3: \"Marzo\", 4: \"Abril\", 5: \"Mayo\", 6: \"Junio\",7:\"Julio\",8:\"Agosto\",9:\"Setiembre\",10:\"Octubre\",11:\"Noviembre\",12:\"Diciembre\"}\n",
        "argument=int (input(\"Ingrese un número:\" ))\n",
        "nombreDeMes=switcher.get(argument, \"Mes invalido\")\n",
        "print (nombreDeMes)"
      ],
      "metadata": {
        "id": "IGuNzL7rHdCb"
      },
      "execution_count": null,
      "outputs": []
    },
    {
      "cell_type": "code",
      "source": [
        "C=-1\n",
        "I=0\n",
        "M=0\n",
        "while(C<0) or (I<=0) or(I>=100) or (M<=0):\n",
        "  print(\"Introduce el capital, el interes, y el tiempo apropiados\")\n",
        "  C=int(input(\"Capital: \"))\n",
        "  I=int(input(\"Interes: \"))\n",
        "  M=int (input( \"Tiempo en Annios: \"))\n",
        "\n",
        "for i in range(M):\n",
        "  C=C*(1+I/100)\n",
        "  print(\"Monto: \",C,\" colones\")"
      ],
      "metadata": {
        "id": "y19r4WbqKGvU"
      },
      "execution_count": null,
      "outputs": []
    },
    {
      "cell_type": "code",
      "source": [
        "print(\"Digite un numero\")\n",
        "numero=int (input ( \"Numero: \"))\n",
        "\n",
        "while numero>0:\n",
        "  Suma=0\n",
        "  for i in range(1,numero+1):\n",
        "    if(numero % i==0):\n",
        "      Suma=Suma + i\n",
        "  print (Suma)\n",
        "  numero=int (input ( \"Numero: \"))"
      ],
      "metadata": {
        "id": "vLNiRLTrKwGS"
      },
      "execution_count": null,
      "outputs": []
    }
  ]
}