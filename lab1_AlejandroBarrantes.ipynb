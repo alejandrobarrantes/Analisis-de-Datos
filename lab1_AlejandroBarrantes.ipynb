{
  "nbformat": 4,
  "nbformat_minor": 0,
  "metadata": {
    "colab": {
      "provenance": [],
      "authorship_tag": "ABX9TyNWaZ7MIh/2zlUJTCV+ZH9w",
      "include_colab_link": true
    },
    "kernelspec": {
      "name": "python3",
      "display_name": "Python 3"
    },
    "language_info": {
      "name": "python"
    }
  },
  "cells": [
    {
      "cell_type": "markdown",
      "metadata": {
        "id": "view-in-github",
        "colab_type": "text"
      },
      "source": [
        "<a href=\"https://colab.research.google.com/github/alejandrobarrantes/Analisis-de-Datos/blob/main/lab1_AlejandroBarrantes.ipynb\" target=\"_parent\"><img src=\"https://colab.research.google.com/assets/colab-badge.svg\" alt=\"Open In Colab\"/></a>"
      ]
    },
    {
      "cell_type": "code",
      "execution_count": null,
      "metadata": {
        "colab": {
          "base_uri": "https://localhost:8080/"
        },
        "id": "b6GypKsVQBCQ",
        "outputId": "290e674a-133e-4f66-ce52-a65f3bea39a0"
      },
      "outputs": [
        {
          "output_type": "stream",
          "name": "stdout",
          "text": [
            "Ejercicio#1 Calcular distancia\n",
            "Ingrese la velocidad y tiempo de la unida movil\n",
            "Ingrese la velocidad:23\n",
            "Ingrese el tiempo:12\n",
            "La distancia es: 276.0\n"
          ]
        }
      ],
      "source": [
        "print(\"Ejercicio#1 Calcular distancia\")\n",
        "print(\"Ingrese la velocidad y tiempo de la unida movil\")\n",
        "v=float(input(\"Ingrese la velocidad:\"))\n",
        "t=float(input(\"Ingrese el tiempo:\"))\n",
        "print(\"La distancia es: \"+str(v*t))"
      ]
    },
    {
      "cell_type": "code",
      "source": [
        "print(\"Ejercicio #2 Promedio Notas\")\n",
        "nota1 = float(input(\"Ingrese la nota 1: \"))\n",
        "nota2 = int(input(\"Ingrese la nota 2: \"))\n",
        "nota3 = int(input(\"Ingrese la nota 3: \"))\n",
        "\n",
        "print(\"El promedio de las notas es: \" +str((nota1 + nota2 + nota3) / 3))"
      ],
      "metadata": {
        "colab": {
          "base_uri": "https://localhost:8080/"
        },
        "id": "gfBbYB3AQFxO",
        "outputId": "9561919c-78ed-4858-84da-fd525a1b4a17"
      },
      "execution_count": null,
      "outputs": [
        {
          "output_type": "stream",
          "name": "stdout",
          "text": [
            "Ejercicio #2 Promedio Notas\n",
            "Ingrese la nota 1: 23\n",
            "Ingrese la nota 2: 23\n",
            "Ingrese la nota 3: 23\n",
            "El promedio de las notas es: 23.0\n"
          ]
        }
      ]
    },
    {
      "cell_type": "code",
      "source": [
        "#Se necesita elaborar un algoritmo que solicite el numero de respuestas correctas, incorrectas y en blanco,\n",
        "#correspondientes a postulantes, y muestre su puntaje final considerando que por cada respuesta correcta \n",
        "#tendrá  3 puntos, respuestas incorrectas tendrá -1 y respuestas en blanco tendrá 0\n"
      ],
      "metadata": {
        "id": "0swQ6cCNQ7dM"
      },
      "execution_count": null,
      "outputs": []
    },
    {
      "cell_type": "code",
      "source": [
        "correctas = int(input(\"Ingrese la cantidad de respuestas correctas: \"))\n",
        "incorrectas = int(input(\"Ingrese la cantidad de respuestas incorrectas: \"))\n",
        "enBlanco = int(input(\"Ingrese la cantidad de respuestas en blanco: \"))\n",
        "\n",
        "puntajeFinal = (correctas * 3) - incorrectas\n",
        "\n",
        "print(\"El puntaje final es:\", puntajeFinal)"
      ],
      "metadata": {
        "id": "tmQOKW_YQ8CD"
      },
      "execution_count": null,
      "outputs": []
    }
  ]
}