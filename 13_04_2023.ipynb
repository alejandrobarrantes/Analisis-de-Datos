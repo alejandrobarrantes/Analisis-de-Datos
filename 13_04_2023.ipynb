{
  "nbformat": 4,
  "nbformat_minor": 0,
  "metadata": {
    "colab": {
      "provenance": [],
      "authorship_tag": "ABX9TyPlmJMkViTlW00vCmlUNUVy",
      "include_colab_link": true
    },
    "kernelspec": {
      "name": "python3",
      "display_name": "Python 3"
    },
    "language_info": {
      "name": "python"
    }
  },
  "cells": [
    {
      "cell_type": "markdown",
      "metadata": {
        "id": "view-in-github",
        "colab_type": "text"
      },
      "source": [
        "<a href=\"https://colab.research.google.com/github/alejandrobarrantes/Analisis-de-Datos/blob/main/13_04_2023.ipynb\" target=\"_parent\"><img src=\"https://colab.research.google.com/assets/colab-badge.svg\" alt=\"Open In Colab\"/></a>"
      ]
    },
    {
      "cell_type": "code",
      "execution_count": null,
      "metadata": {
        "colab": {
          "base_uri": "https://localhost:8080/"
        },
        "id": "CACeEXwxWTBP",
        "outputId": "1040f05d-16b9-4670-be81-53fd945ba3ff"
      },
      "outputs": [
        {
          "output_type": "stream",
          "name": "stdout",
          "text": [
            "    Nombre  Edad    Ciudad Seccion\n",
            "0      Ana    23  San Jose       A\n",
            "1  Esteban    22   Heredia       B\n",
            "2     Juan    22   Cartago       A\n",
            "3    Karla    22     Limón       A\n",
            "4  Ernesto    21   Heredia       B\n",
            "  Nombre  Edad    Ciudad Seccion\n",
            "0    Ana    23  San Jose       A\n",
            "Index positions of 22 in DataFrame\n",
            "(0, 'Seccion')\n",
            "(2, 'Seccion')\n",
            "(3, 'Seccion')\n"
          ]
        }
      ],
      "source": [
        "import pandas as pd\n",
        "\n",
        "students = [ ( 'Ana' , 23 , 'San Jose' , 'A' ) ,\n",
        "( 'Esteban' , 22 , 'Heredia' , 'B' ) , ( 'Juan' , 22 , 'Cartago' , 'A' ) , ( 'Karla' , 22 , 'Limón' , 'A' ) ,\n",
        "( 'Ernesto' , 21 , 'Heredia' , 'B' ) ] \n",
        "\n",
        "df = pd.DataFrame ( data=students , columns = [ 'Nombre' , 'Edad' , 'Ciudad' , 'Seccion'])\n",
        "\n",
        "print(df)\n",
        "\n",
        "def informacion_persona(nombre, dataframe):\n",
        "  persona = dataframe.loc[dataframe['Nombre'] == nombre]\n",
        "  return persona\n",
        "\n",
        "print(informacion_persona(\"Ana\",df))\n",
        "\n",
        "def getIndexes(dfObj,value):\n",
        "  listOfPos = []\n",
        "  result =dfObj.isin([value])\n",
        "  seriesObj = result.any() \n",
        "  columnNames = list(seriesObj[seriesObj==True].index)\n",
        "\n",
        "  for col in columnNames :\n",
        "    rows = list(result[col][result[col]==True].index)\n",
        "\n",
        "    for row in rows :\n",
        "      listOfPos.append((row,col))\n",
        "\n",
        "  return listOfPos\n",
        "\n",
        "\n",
        "print('Index positions of 22 in DataFrame')\n",
        "\n",
        "listOfPositions=getIndexes(df,'A')\n",
        "for i in range(len(listOfPositions)):\n",
        "    print(listOfPositions[i])\n"
      ]
    },
    {
      "cell_type": "code",
      "source": [
        "import pandas as pd\n",
        "\n",
        "data = {'Country':['Costa Rica','India','Brazil'],\n",
        "        'Capital':['San José','New Delhi ',' Brasilia '] ,\n",
        "        'Population' : [ 4500000 , 1303171035 , 207847528 ] }\n",
        "\n",
        "df = pd.DataFrame ( data , columns = [ 'Country' , 'Capital' , 'Population'] ) \n",
        "\n",
        "print ( df )"
      ],
      "metadata": {
        "colab": {
          "base_uri": "https://localhost:8080/"
        },
        "id": "p_4PUN6_Xc4A",
        "outputId": "bd16513e-8efa-4ae1-a501-12a6ca9e56e9"
      },
      "execution_count": null,
      "outputs": [
        {
          "output_type": "stream",
          "name": "stdout",
          "text": [
            "      Country     Capital  Population\n",
            "0  Costa Rica    San José     4500000\n",
            "1       India  New Delhi   1303171035\n",
            "2      Brazil   Brasilia    207847528\n"
          ]
        }
      ]
    },
    {
      "cell_type": "code",
      "source": [
        "print ( \" Promedio de los elementos del vector \" )\n",
        "Suma=0\n",
        "Media = 0\n",
        "Temp= [ ]\n",
        "print ( \" Ingrese cantidad de Temperaturas \" ) \n",
        "N=int ( input() )\n",
        "\n",
        "for i in range (N):\n",
        "  temperatura = float ( input ( \"Ingrese la temperatura \" ) )\n",
        "  Temp.append ( temperatura ) \n",
        "  Suma =Suma + Temp [i]\n",
        "Media = Suma / N\n",
        "print ( Media )"
      ],
      "metadata": {
        "colab": {
          "base_uri": "https://localhost:8080/"
        },
        "id": "A8qmrK_bZk6L",
        "outputId": "7daf55b4-88f2-4bd1-9e4f-aec24f0dd875"
      },
      "execution_count": null,
      "outputs": [
        {
          "output_type": "stream",
          "name": "stdout",
          "text": [
            " Promedio de los elementos del vector \n",
            " Ingrese cantidad de Temperaturas \n",
            "2\n",
            "Ingrese la temperatura 12\n",
            "Ingrese la temperatura 12\n",
            "12.0\n"
          ]
        }
      ]
    },
    {
      "cell_type": "code",
      "source": [
        "import pandas as pd\n",
        "\n",
        "mascota=pd.DataFrame(\n",
        "    data={'name':['Minimo','Milo','Snoopy','Blanco','LittlePony'],\n",
        "          'type': ['gato', 'perro', 'perro', 'perro', 'caballo' ]\n",
        "          },\n",
        "          index=[71,42,11,98,42])\n",
        "\n",
        "visitas=pd.DataFrame(\n",
        "    data={\n",
        "'pet_id': [42, 31, 71, 42, 98, 42],\n",
        "'fecha': ['2019-03-15', '2019-03-15', '2019 -04-05' , \"2019-04-06\", '2019-04-12','2019-04-12'],\n",
        "'costo': [2000, 5000, 1000, 5000, 6000, 10000]})\n",
        "\n",
        "mascota.index.rename('pet_id',inplace=True)\n",
        "visitas.index.rename('visit_id',inplace=True)\n",
        "\n",
        "print(mascota.query('pet_id==71'))\n",
        "\n",
        "\n",
        "print('\\n',visitas['costo'].sum())\n",
        "print(visitas['costo'].min())\n",
        "print(visitas['costo'].max())\n",
        "print(visitas)"
      ],
      "metadata": {
        "colab": {
          "base_uri": "https://localhost:8080/"
        },
        "id": "1Ds7O5facIGl",
        "outputId": "23672def-318a-4b3c-80b2-278412944465"
      },
      "execution_count": null,
      "outputs": [
        {
          "output_type": "stream",
          "name": "stdout",
          "text": [
            "          name  type\n",
            "pet_id              \n",
            "71      Minimo  gato\n",
            "\n",
            " 29000\n",
            "1000\n",
            "10000\n",
            "          pet_id        fecha  costo\n",
            "visit_id                            \n",
            "0             42   2019-03-15   2000\n",
            "1             31   2019-03-15   5000\n",
            "2             71  2019 -04-05   1000\n",
            "3             42   2019-04-06   5000\n",
            "4             98   2019-04-12   6000\n",
            "5             42   2019-04-12  10000\n"
          ]
        }
      ]
    }
  ]
}